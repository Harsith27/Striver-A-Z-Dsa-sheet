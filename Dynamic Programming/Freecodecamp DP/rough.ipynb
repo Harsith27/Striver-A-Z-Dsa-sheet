{
 "cells": [
  {
   "cell_type": "code",
   "execution_count": 4,
   "id": "ef91e444",
   "metadata": {},
   "outputs": [
    {
     "name": "stdout",
     "output_type": "stream",
     "text": [
      "[3, 2, 2]\n"
     ]
    }
   ],
   "source": [
    "def bestSum(targetSum,nums,memo={}):\n",
    "    if targetSum==0:\n",
    "        return []\n",
    "    if targetSum<0:\n",
    "        return None\n",
    "    if targetSum in memo:\n",
    "        return memo[targetSum]\n",
    "    smallestarr=None\n",
    "    for num in nums:\n",
    "        remainder=targetSum-num\n",
    "        remainderval=bestSum(remainder,nums)\n",
    "        if remainderval!=None:\n",
    "            arr=remainderval+[num]\n",
    "            if (smallestarr==None) or (len(arr)<len(smallestarr)):\n",
    "                smallestarr=arr\n",
    "    memo[targetSum]=smallestarr\n",
    "    return memo[targetSum]\n",
    "\n",
    "targetSum=int(input())\n",
    "nums=list(map(int,input().split()))\n",
    "print(bestSum(targetSum,nums))"
   ]
  }
 ],
 "metadata": {
  "kernelspec": {
   "display_name": "Python 3",
   "language": "python",
   "name": "python3"
  },
  "language_info": {
   "codemirror_mode": {
    "name": "ipython",
    "version": 3
   },
   "file_extension": ".py",
   "mimetype": "text/x-python",
   "name": "python",
   "nbconvert_exporter": "python",
   "pygments_lexer": "ipython3",
   "version": "3.13.1"
  }
 },
 "nbformat": 4,
 "nbformat_minor": 5
}
