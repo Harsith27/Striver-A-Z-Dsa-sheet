{
 "cells": [
  {
   "cell_type": "code",
   "execution_count": null,
   "id": "ef91e444",
   "metadata": {},
   "outputs": [
    {
     "name": "stdout",
     "output_type": "stream",
     "text": [
      "[3, 2, 2]\n"
     ]
    },
    {
     "ename": "",
     "evalue": "",
     "output_type": "error",
     "traceback": [
      "\u001b[1;31mThe Kernel crashed while executing code in the current cell or a previous cell. \n",
      "\u001b[1;31mPlease review the code in the cell(s) to identify a possible cause of the failure. \n",
      "\u001b[1;31mClick <a href='https://aka.ms/vscodeJupyterKernelCrash'>here</a> for more info. \n",
      "\u001b[1;31mView Jupyter <a href='command:jupyter.viewOutput'>log</a> for further details."
     ]
    }
   ],
   "source": [
    "def bestSum(targetSum,nums,memo={}):\n",
    "    if targetSum==0:\n",
    "        return []\n",
    "    if targetSum<0:\n",
    "        return None\n",
    "    if targetSum in memo:\n",
    "        return memo[targetSum]\n",
    "    smallestarr=None\n",
    "    for num in nums:\n",
    "        remainder=targetSum-num\n",
    "        remainderval=bestSum(remainder,nums)\n",
    "        if remainderval!=None:\n",
    "            arr=remainderval+[num]\n",
    "            if (smallestarr==None) or (len(arr)<len(smallestarr)):\n",
    "                smallestarr=arr\n",
    "    memo[targetSum]=smallestarr\n",
    "    return memo[targetSum]\n",
    "\n",
    "targetSum=int(input())\n",
    "nums=list(map(int,input().split()))\n",
    "print(bestSum(targetSum,nums))"
   ]
  },
  {
   "cell_type": "code",
   "execution_count": 2,
   "id": "31b6399a",
   "metadata": {},
   "outputs": [
    {
     "name": "stdout",
     "output_type": "stream",
     "text": [
      "True\n"
     ]
    }
   ],
   "source": [
    "#can Construct\n",
    "def canConstruct(target,wordBank):\n",
    "    if target == \"\":\n",
    "        return True\n",
    "    for word in wordBank:\n",
    "        if target.startswith(word):\n",
    "            suffix=target[len(word):]\n",
    "            return canConstruct(suffix,wordBank)\n",
    "    return False\n",
    "\n",
    "target=input()\n",
    "wordBank=list(input().split())\n",
    "print(canConstruct(target,wordBank))"
   ]
  },
  {
   "cell_type": "code",
   "execution_count": 3,
   "id": "2f128eee",
   "metadata": {},
   "outputs": [
    {
     "name": "stdout",
     "output_type": "stream",
     "text": [
      "3\n"
     ]
    }
   ],
   "source": [
    "#Count Construct\n",
    "def countConstruct(target,wordBank):\n",
    "    if target == \"\":\n",
    "        return 1\n",
    "    total=0\n",
    "    for word in wordBank:\n",
    "        if target.startswith(word):\n",
    "            suffix=target[len(word):]\n",
    "            ways = canConstruct(suffix,wordBank)\n",
    "            total+=ways\n",
    "    return total\n",
    "\n",
    "target=input()\n",
    "wordBank=list(input().split())\n",
    "print(countConstruct(target,wordBank))"
   ]
  },
  {
   "cell_type": "code",
   "execution_count": 10,
   "id": "b0deb239",
   "metadata": {},
   "outputs": [
    {
     "name": "stdout",
     "output_type": "stream",
     "text": [
      "[]\n"
     ]
    }
   ],
   "source": [
    "def allConstruct(target,wordBank):\n",
    "    if target==\"\":\n",
    "        return [[]]\n",
    "    result=[]\n",
    "    for word in wordBank:\n",
    "        if target.startswith(word):\n",
    "            suffix=target[len(word):]\n",
    "            suffixways=allConstruct(suffix,wordBank)\n",
    "            targetways=[[word,*way] for way in suffixways]\n",
    "            result.extend(targetways)\n",
    "    return result\n",
    "\n",
    "target=input()\n",
    "wordBank=list(input().split())\n",
    "print(allConstruct(target,wordBank))"
   ]
  }
 ],
 "metadata": {
  "kernelspec": {
   "display_name": "Python 3",
   "language": "python",
   "name": "python3"
  },
  "language_info": {
   "codemirror_mode": {
    "name": "ipython",
    "version": 3
   },
   "file_extension": ".py",
   "mimetype": "text/x-python",
   "name": "python",
   "nbconvert_exporter": "python",
   "pygments_lexer": "ipython3",
   "version": "3.13.1"
  }
 },
 "nbformat": 4,
 "nbformat_minor": 5
}
