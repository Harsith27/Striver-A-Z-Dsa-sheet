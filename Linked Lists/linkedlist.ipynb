{
 "cells": [
  {
   "cell_type": "code",
   "execution_count": 5,
   "id": "8f0315de",
   "metadata": {},
   "outputs": [],
   "source": [
    "class SinglyNode:\n",
    "    def __init__(self,val,next=None):\n",
    "        self.val=val \n",
    "        self.next=next\n",
    "    def __str__(self):\n",
    "        return str(self.val)"
   ]
  },
  {
   "cell_type": "code",
   "execution_count": 6,
   "id": "5382d0a0",
   "metadata": {},
   "outputs": [
    {
     "name": "stdout",
     "output_type": "stream",
     "text": [
      "1\n"
     ]
    }
   ],
   "source": [
    "Head=SinglyNode(1)\n",
    "A=SinglyNode(3)\n",
    "B=SinglyNode(4)\n",
    "C=SinglyNode(7)\n",
    "\n",
    "Head.next=A\n",
    "A.next=B\n",
    "B.next=C\n",
    "\n",
    "print(Head)"
   ]
  },
  {
   "cell_type": "code",
   "execution_count": 7,
   "id": "b30cd03b",
   "metadata": {},
   "outputs": [
    {
     "name": "stdout",
     "output_type": "stream",
     "text": [
      "1\n",
      "3\n",
      "4\n",
      "7\n"
     ]
    }
   ],
   "source": [
    "curr=Head\n",
    "while curr:\n",
    "    print(curr.val)\n",
    "    curr=curr.next"
   ]
  },
  {
   "cell_type": "code",
   "execution_count": 9,
   "id": "d63afbe3",
   "metadata": {},
   "outputs": [
    {
     "name": "stdout",
     "output_type": "stream",
     "text": [
      "1 -> 3 -> 4 -> 7\n"
     ]
    }
   ],
   "source": [
    "curr=Head\n",
    "ele=[]\n",
    "while curr:\n",
    "    ele.append(str(curr.val))\n",
    "    curr=curr.next\n",
    "print(' -> '.join(ele))\n"
   ]
  },
  {
   "cell_type": "code",
   "execution_count": 12,
   "id": "94b0f8e0",
   "metadata": {},
   "outputs": [
    {
     "data": {
      "text/plain": [
       "False"
      ]
     },
     "execution_count": 12,
     "metadata": {},
     "output_type": "execute_result"
    }
   ],
   "source": [
    "def search(Head,k):\n",
    "    curr=Head\n",
    "    while curr:\n",
    "        if curr.val==k:\n",
    "            return True\n",
    "        else:\n",
    "            curr=curr.next\n",
    "    return False\n",
    "search(Head,2)\n"
   ]
  },
  {
   "cell_type": "code",
   "execution_count": 18,
   "id": "4c961b98",
   "metadata": {},
   "outputs": [],
   "source": [
    "class DoublyNode:\n",
    "    def __init__(self,val,prev=None,next=None):\n",
    "        self.val=val\n",
    "        self.prev=prev\n",
    "        self.next=next\n",
    "    def __str__(self):\n",
    "        return str(self.val)\n"
   ]
  },
  {
   "cell_type": "code",
   "execution_count": 15,
   "id": "44112076",
   "metadata": {},
   "outputs": [
    {
     "name": "stdout",
     "output_type": "stream",
     "text": [
      "1\n",
      "1\n"
     ]
    }
   ],
   "source": [
    "head=tail=DoublyNode(1)\n",
    "print(head)\n",
    "print(tail)"
   ]
  },
  {
   "cell_type": "code",
   "execution_count": 20,
   "id": "f3fb02f0",
   "metadata": {},
   "outputs": [
    {
     "name": "stdout",
     "output_type": "stream",
     "text": [
      "3 -> 3 -> 1\n"
     ]
    }
   ],
   "source": [
    "def display(head):\n",
    "    curr=head\n",
    "    ele=[]\n",
    "    while curr:\n",
    "        ele.append(str(curr.val))\n",
    "        curr=curr.next\n",
    "    print(' -> '.join(ele))\n",
    "display(head)"
   ]
  },
  {
   "cell_type": "code",
   "execution_count": null,
   "id": "65f7cfb2",
   "metadata": {},
   "outputs": [
    {
     "name": "stdout",
     "output_type": "stream",
     "text": [
      "3 -> 3 -> 3 -> 3 -> 3 -> 3 -> 1\n"
     ]
    }
   ],
   "source": [
    "#Insert at beginning-O(1)\n",
    "def insert_at_beginning(head,tail,val):\n",
    "    new_node=DoublyNode(val,next=head)\n",
    "    head.prev=new_node\n",
    "    return new_node, tail\n",
    "head,tail=insert_at_beginning(head,tail,3)\n",
    "display(head)\n"
   ]
  },
  {
   "cell_type": "code",
   "execution_count": 26,
   "id": "bb72c993",
   "metadata": {},
   "outputs": [
    {
     "name": "stdout",
     "output_type": "stream",
     "text": [
      "3 -> 3 -> 3 -> 3 -> 3 -> 3 -> 1 -> 2 -> 2\n"
     ]
    }
   ],
   "source": [
    "#Insert at beginning-O(1)\n",
    "def insert_at_end(head,tail,val):\n",
    "    new_node=DoublyNode(val,prev=tail)\n",
    "    tail.next=new_node\n",
    "    return head, new_node\n",
    "head,tail=insert_at_end(head,tail,2)\n",
    "display(head)"
   ]
  }
 ],
 "metadata": {
  "kernelspec": {
   "display_name": "Python 3",
   "language": "python",
   "name": "python3"
  },
  "language_info": {
   "codemirror_mode": {
    "name": "ipython",
    "version": 3
   },
   "file_extension": ".py",
   "mimetype": "text/x-python",
   "name": "python",
   "nbconvert_exporter": "python",
   "pygments_lexer": "ipython3",
   "version": "3.13.1"
  }
 },
 "nbformat": 4,
 "nbformat_minor": 5
}
