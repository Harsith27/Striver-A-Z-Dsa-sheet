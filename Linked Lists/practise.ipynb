{
 "cells": [
  {
   "cell_type": "code",
   "execution_count": 4,
   "id": "9b8ae3d6",
   "metadata": {},
   "outputs": [],
   "source": [
    "# Singly Linked List\n",
    "class SinglyNode:\n",
    "    def __init__(self,val,next=None):\n",
    "        self.val=val\n",
    "        self.next=next\n",
    "    def __str__(self):\n",
    "        return str(self.val)"
   ]
  },
  {
   "cell_type": "code",
   "execution_count": 5,
   "id": "f443041f",
   "metadata": {},
   "outputs": [
    {
     "name": "stdout",
     "output_type": "stream",
     "text": [
      "1\n"
     ]
    }
   ],
   "source": [
    "head=SinglyNode(1)\n",
    "A=SinglyNode(3)\n",
    "B=SinglyNode(4)\n",
    "C=SinglyNode(7)\n",
    "\n",
    "head.next = A\n",
    "A.next=B\n",
    "B.next=C\n",
    "\n",
    "print(head)"
   ]
  },
  {
   "cell_type": "code",
   "execution_count": 6,
   "id": "7dcb4d9d",
   "metadata": {},
   "outputs": [
    {
     "name": "stdout",
     "output_type": "stream",
     "text": [
      "1\n",
      "3\n",
      "4\n",
      "7\n"
     ]
    }
   ],
   "source": [
    "curr=head\n",
    "while(curr):\n",
    "    print(curr)\n",
    "    curr=curr.next"
   ]
  },
  {
   "cell_type": "code",
   "execution_count": 7,
   "id": "30fffa27",
   "metadata": {},
   "outputs": [
    {
     "name": "stdout",
     "output_type": "stream",
     "text": [
      "1->3->4->7\n"
     ]
    }
   ],
   "source": [
    "#Display Linked list\n",
    "def display(head):\n",
    "    curr=head\n",
    "    ele=[]\n",
    "    while(curr):\n",
    "        ele.append(str(curr.val))\n",
    "        curr=curr.next\n",
    "    print('->'.join(ele))\n",
    "display(head)"
   ]
  },
  {
   "cell_type": "code",
   "execution_count": 8,
   "id": "ccf87c62",
   "metadata": {},
   "outputs": [
    {
     "data": {
      "text/plain": [
       "False"
      ]
     },
     "execution_count": 8,
     "metadata": {},
     "output_type": "execute_result"
    }
   ],
   "source": [
    "def search(key,head):\n",
    "    curr=head\n",
    "    while(curr):\n",
    "        if curr.val==key:\n",
    "            return True\n",
    "        curr=curr.next\n",
    "    return False\n",
    "search(2,head) "
   ]
  },
  {
   "cell_type": "code",
   "execution_count": 9,
   "id": "cd12ba1b",
   "metadata": {},
   "outputs": [
    {
     "name": "stdout",
     "output_type": "stream",
     "text": [
      "1 -> 2 -> 3 -> 4 -> 5 -> 6\n"
     ]
    }
   ],
   "source": [
    "class SinglyNode:\n",
    "    def __init__(self,val,next=None):\n",
    "        self.val=val\n",
    "        self.next=next\n",
    "    def __str__(self):\n",
    "        curr=self\n",
    "        ele=[]\n",
    "        while(curr):\n",
    "            ele.append(str(curr.val))\n",
    "            curr=curr.next\n",
    "        return ' -> '.join(ele)\n",
    "def create_List(arr):\n",
    "    head=SinglyNode(arr[0])\n",
    "    curr=head\n",
    "    for val in arr[1:]:\n",
    "        curr.next=SinglyNode(val)\n",
    "        curr=curr.next\n",
    "    return head\n",
    "head=create_List([1,2,3,4,5,6])\n",
    "\n",
    "print(head)\n",
    "            "
   ]
  },
  {
   "cell_type": "code",
   "execution_count": 10,
   "id": "80532b4c",
   "metadata": {},
   "outputs": [
    {
     "name": "stdout",
     "output_type": "stream",
     "text": [
      "1 -> 2 -> 3 -> 4 -> 5 -> 6\n"
     ]
    }
   ],
   "source": [
    "print(head)"
   ]
  },
  {
   "cell_type": "code",
   "execution_count": 16,
   "id": "a145475a",
   "metadata": {},
   "outputs": [
    {
     "name": "stdout",
     "output_type": "stream",
     "text": [
      "1 -> 2 -> 3 -> 4 -> 5 -> 6 -> 8\n"
     ]
    }
   ],
   "source": [
    "def Reverse_list(head):\n",
    "    prev=None\n",
    "    curr=head\n",
    "    while(curr):\n",
    "        temp=curr.next\n",
    "        curr.next=prev\n",
    "        prev=curr\n",
    "        curr=temp\n",
    "    return prev\n",
    "head=Reverse_list(head)\n",
    "print(head)"
   ]
  },
  {
   "cell_type": "code",
   "execution_count": 12,
   "id": "b6f52472",
   "metadata": {},
   "outputs": [
    {
     "name": "stdout",
     "output_type": "stream",
     "text": [
      "6\n"
     ]
    }
   ],
   "source": [
    "def Length_of_linked_list(head):\n",
    "    curr=head\n",
    "    len=0\n",
    "    while(curr):\n",
    "        len+=1\n",
    "        curr=curr.next\n",
    "    return len\n",
    "print(Length_of_linked_list(head))\n"
   ]
  },
  {
   "cell_type": "code",
   "execution_count": 15,
   "id": "2b55ad15",
   "metadata": {},
   "outputs": [
    {
     "name": "stdout",
     "output_type": "stream",
     "text": [
      "8 -> 6 -> 5 -> 4 -> 3 -> 2 -> 1\n"
     ]
    }
   ],
   "source": [
    "def Insert_node_at_begin(ele,head):\n",
    "    new_node=SinglyNode(ele)\n",
    "    new_node.next=head\n",
    "    head=new_node\n",
    "    return head\n",
    "head=Insert_node_at_begin(8,head)\n",
    "print(head)"
   ]
  },
  {
   "cell_type": "code",
   "execution_count": 55,
   "id": "19814533",
   "metadata": {},
   "outputs": [],
   "source": [
    "head1=None"
   ]
  },
  {
   "cell_type": "code",
   "execution_count": 17,
   "id": "9486513c",
   "metadata": {},
   "outputs": [
    {
     "name": "stdout",
     "output_type": "stream",
     "text": [
      "1 -> 2 -> 3 -> 4 -> 5 -> 6 -> 8 -> 11\n"
     ]
    }
   ],
   "source": [
    "def Insert_node_at_end(ele,head):\n",
    "    new_node=SinglyNode(ele)\n",
    "    if head is None:\n",
    "        return new_node \n",
    "    curr=head\n",
    "    while(curr.next):\n",
    "        curr=curr.next\n",
    "    curr.next=new_node\n",
    "    return head\n",
    "head=Insert_node_at_end(11,head)\n",
    "print(head)"
   ]
  },
  {
   "cell_type": "code",
   "execution_count": 18,
   "id": "5a9eca39",
   "metadata": {},
   "outputs": [
    {
     "name": "stdout",
     "output_type": "stream",
     "text": [
      "1 -> 2 -> 3 -> 4 -> 5 -> 6 -> 7 -> 8 -> 11\n"
     ]
    }
   ],
   "source": [
    "def insert_after_given_node(prev_node,ele):\n",
    "    new_node=SinglyNode(ele)\n",
    "    new_node.next=prev_node.next\n",
    "    prev_node.next=new_node\n",
    "\n",
    "curr=head\n",
    "while curr and curr.val!=6:\n",
    "    curr=curr.next\n",
    "insert_after_given_node(curr,7)\n",
    "print(head)"
   ]
  },
  {
   "cell_type": "code",
   "execution_count": 22,
   "id": "ee099aa5",
   "metadata": {},
   "outputs": [
    {
     "name": "stdout",
     "output_type": "stream",
     "text": [
      "1 -> 2 -> 3 -> 4 -> 5 -> 6 -> 7 -> 8 -> 9 -> 11\n"
     ]
    }
   ],
   "source": [
    "def insert_after_given_value(val,head,ele):\n",
    "    curr=head\n",
    "    while curr and curr.val!=val:\n",
    "        curr=curr.next\n",
    "    new_node=SinglyNode(ele)\n",
    "    new_node.next=curr.next\n",
    "    curr.next=new_node\n",
    "\n",
    "insert_after_given_value(8,head,9)\n",
    "print(head)"
   ]
  },
  {
   "cell_type": "code",
   "execution_count": 25,
   "id": "2dfec47d",
   "metadata": {},
   "outputs": [
    {
     "name": "stdout",
     "output_type": "stream",
     "text": [
      "2 -> 3 -> 4 -> 5 -> 6 -> 7 -> 8 -> 9 -> 11 -> 10\n"
     ]
    }
   ],
   "source": [
    "def insert_after_given_pos(head,pos,ele):\n",
    "    new_node=SinglyNode(ele)\n",
    "    if pos==0:                   #edge case\n",
    "        new_node.next=head\n",
    "        return new_node\n",
    "    p=0\n",
    "    curr=head\n",
    "    while curr and (p!=pos):\n",
    "        curr=curr.next\n",
    "        p+=1\n",
    "    new_node.next=curr.next\n",
    "    curr.next=new_node\n",
    "    return head\n",
    "head=insert_after_given_pos(head,8,10)\n",
    "print(head)"
   ]
  },
  {
   "cell_type": "code",
   "execution_count": 27,
   "id": "23f3f89f",
   "metadata": {},
   "outputs": [
    {
     "name": "stdout",
     "output_type": "stream",
     "text": [
      "3 -> 4 -> 5 -> 6 -> 7 -> 8 -> 9 -> 11 -> 10\n"
     ]
    }
   ],
   "source": [
    "def delete_at_begin(head):\n",
    "    return head.next\n",
    "head=delete_at_begin(head)\n",
    "print(head)\n"
   ]
  },
  {
   "cell_type": "code",
   "execution_count": null,
   "id": "ce4ccbe6",
   "metadata": {},
   "outputs": [
    {
     "name": "stdout",
     "output_type": "stream",
     "text": [
      "3 -> 4 -> 5 -> 6 -> 7 -> 8 -> 9 -> 11\n"
     ]
    }
   ],
   "source": [
    "def delete_at_end(head):\n",
    "    if head is None:        #empty list\n",
    "        return head\n",
    "    if head.next is None:   #list with only one ele\n",
    "        return None\n",
    "    curr=head\n",
    "    while(curr.next.next):\n",
    "        curr=curr.next\n",
    "    curr.next=None\n",
    "    return head\n",
    "head=delete_at_end(head)\n",
    "print(head)"
   ]
  },
  {
   "cell_type": "code",
   "execution_count": 31,
   "id": "8039a173",
   "metadata": {},
   "outputs": [
    {
     "name": "stdout",
     "output_type": "stream",
     "text": [
      "3 -> 4 -> 5 -> 6 -> 8 -> 11\n"
     ]
    }
   ],
   "source": [
    "def delete_value(ele,head):\n",
    "    curr=head\n",
    "    while curr.next and curr.next.val!=ele:\n",
    "        curr=curr.next\n",
    "    if curr.next is not None:\n",
    "        curr.next=curr.next.next\n",
    "    return head\n",
    "head=delete_value(7,head)\n",
    "print(head)"
   ]
  },
  {
   "cell_type": "code",
   "execution_count": 33,
   "id": "43659fd1",
   "metadata": {},
   "outputs": [
    {
     "name": "stdout",
     "output_type": "stream",
     "text": [
      "4 -> 5 -> 8 -> 11\n"
     ]
    }
   ],
   "source": [
    "def delete_at_position(pos,head):\n",
    "    if head is None:\n",
    "        return head\n",
    "    if pos==0:\n",
    "        return head.next\n",
    "    curr=head\n",
    "    p=0\n",
    "    while curr.next and p<pos-1:\n",
    "        curr=curr.next\n",
    "        p+=1\n",
    "    if curr.next is None:\n",
    "        return head\n",
    "    curr.next=curr.next.next\n",
    "    return head\n",
    "head=delete_at_position(2,head)\n",
    "print(head)"
   ]
  }
 ],
 "metadata": {
  "kernelspec": {
   "display_name": "Python 3",
   "language": "python",
   "name": "python3"
  },
  "language_info": {
   "codemirror_mode": {
    "name": "ipython",
    "version": 3
   },
   "file_extension": ".py",
   "mimetype": "text/x-python",
   "name": "python",
   "nbconvert_exporter": "python",
   "pygments_lexer": "ipython3",
   "version": "3.13.1"
  }
 },
 "nbformat": 4,
 "nbformat_minor": 5
}
