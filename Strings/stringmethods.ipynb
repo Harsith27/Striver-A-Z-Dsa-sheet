{
 "cells": [
  {
   "cell_type": "code",
   "execution_count": 1,
   "id": "18f405d5",
   "metadata": {},
   "outputs": [
    {
     "name": "stdout",
     "output_type": "stream",
     "text": [
      "String-Methods\n"
     ]
    }
   ],
   "source": [
    "print(\"String-Methods\")"
   ]
  },
  {
   "cell_type": "code",
   "execution_count": null,
   "id": "f02a9cbb",
   "metadata": {},
   "outputs": [
    {
     "name": "stdout",
     "output_type": "stream",
     "text": [
      "====     helloworld to me     ====\n",
      "====     HELLOWORLD TO ME     ====\n",
      "====     helloworld to me     ====\n",
      "====     Helloworld To Me     ====\n",
      "     helloWORLD to me     \n",
      "     helloWORLD to me     ====\n",
      "====     helloWORLD to me     \n",
      "harsith veera charan\n"
     ]
    }
   ],
   "source": [
    "s=\"====     helloWORLD to me     ====\"\n",
    "name=\"Harsith veera charan\"\n",
    "print(s.lower())\n",
    "print(s.upper())\n",
    "print(s.capitalize())\n",
    "print(s.title())\n",
    "print(s.strip(\"=\"))#trailing and leading spaces are remvoed\n",
    "print(s.lstrip(\"=\"))#leading spaces are remvoed\n",
    "print(s.rstrip(\"=\"))#trailing spaces are remvoed\n",
    "print(name.replace(\"h\",\"v\"))\n",
    "\n"
   ]
  },
  {
   "cell_type": "code",
   "execution_count": 15,
   "id": "879f10a2",
   "metadata": {},
   "outputs": [
    {
     "name": "stdout",
     "output_type": "stream",
     "text": [
      "456 456 ghi\n"
     ]
    }
   ],
   "source": [
    "s = \"abc 123 ghi\"\n",
    "print(s.replace(\"abc\", \"123\").replace(\"123\", \"456\"))\n",
    "# Output: 123 456 ghi\n"
   ]
  },
  {
   "cell_type": "code",
   "execution_count": 20,
   "id": "0bebf0af",
   "metadata": {},
   "outputs": [
    {
     "name": "stdout",
     "output_type": "stream",
     "text": [
      "2\n",
      "2\n",
      "-1\n"
     ]
    },
    {
     "ename": "ValueError",
     "evalue": "substring not found",
     "output_type": "error",
     "traceback": [
      "\u001b[31m---------------------------------------------------------------------------\u001b[39m",
      "\u001b[31mValueError\u001b[39m                                Traceback (most recent call last)",
      "\u001b[36mCell\u001b[39m\u001b[36m \u001b[39m\u001b[32mIn[20]\u001b[39m\u001b[32m, line 6\u001b[39m\n\u001b[32m      4\u001b[39m \u001b[38;5;28mprint\u001b[39m(s.index(\u001b[33m'\u001b[39m\u001b[33ml\u001b[39m\u001b[33m'\u001b[39m))\n\u001b[32m      5\u001b[39m \u001b[38;5;28mprint\u001b[39m(s.find(\u001b[33m'\u001b[39m\u001b[33ma\u001b[39m\u001b[33m'\u001b[39m))\n\u001b[32m----> \u001b[39m\u001b[32m6\u001b[39m \u001b[38;5;28mprint\u001b[39m(\u001b[43ms\u001b[49m\u001b[43m.\u001b[49m\u001b[43mindex\u001b[49m\u001b[43m(\u001b[49m\u001b[33;43m'\u001b[39;49m\u001b[33;43ma\u001b[39;49m\u001b[33;43m'\u001b[39;49m\u001b[43m)\u001b[49m)\n",
      "\u001b[31mValueError\u001b[39m: substring not found"
     ]
    }
   ],
   "source": [
    "#finding char method\n",
    "s=\"hello\"\n",
    "print(s.find('l'))\n",
    "print(s.index('l'))\n",
    "print(s.find('a'))\n",
    "print(s.index('a'))"
   ]
  },
  {
   "cell_type": "code",
   "execution_count": 21,
   "id": "425f3ea0",
   "metadata": {},
   "outputs": [
    {
     "name": "stdout",
     "output_type": "stream",
     "text": [
      "2\n"
     ]
    }
   ],
   "source": [
    "s=\"banana\"\n",
    "print(s.count(\"an\"))"
   ]
  },
  {
   "cell_type": "code",
   "execution_count": null,
   "id": "a2f9a360",
   "metadata": {},
   "outputs": [],
   "source": []
  }
 ],
 "metadata": {
  "kernelspec": {
   "display_name": "Python 3",
   "language": "python",
   "name": "python3"
  },
  "language_info": {
   "codemirror_mode": {
    "name": "ipython",
    "version": 3
   },
   "file_extension": ".py",
   "mimetype": "text/x-python",
   "name": "python",
   "nbconvert_exporter": "python",
   "pygments_lexer": "ipython3",
   "version": "3.13.1"
  }
 },
 "nbformat": 4,
 "nbformat_minor": 5
}
