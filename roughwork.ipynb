{
 "cells": [
  {
   "cell_type": "code",
   "execution_count": 5,
   "metadata": {},
   "outputs": [
    {
     "name": "stdout",
     "output_type": "stream",
     "text": [
      "Helloworld \n"
     ]
    }
   ],
   "source": [
    "print(\"Helloworld \")"
   ]
  },
  {
   "cell_type": "code",
   "execution_count": 9,
   "id": "3631300e",
   "metadata": {},
   "outputs": [
    {
     "name": "stdout",
     "output_type": "stream",
     "text": [
      "True\n"
     ]
    }
   ],
   "source": [
    "print(\"hello\" in \"helloworld\")"
   ]
  },
  {
   "cell_type": "code",
   "execution_count": 26,
   "id": "2477fd8c",
   "metadata": {},
   "outputs": [
    {
     "name": "stdout",
     "output_type": "stream",
     "text": [
      "h\n",
      "d\n",
      "helloworld\n",
      "loworld\n",
      "lowo\n",
      "lool\n",
      "lloworld\n",
      "hlod\n",
      "loo\n",
      "dlrowolleh\n",
      "dlrowol\n"
     ]
    }
   ],
   "source": [
    "#Slicing of string\n",
    "s=\"helloworld\"\n",
    "print(s[0])  #positive index\n",
    "print(s[-1]) #negative index\n",
    "#postive slicing\n",
    "print(s[:]) \n",
    "print(s[3:])\n",
    "print(s[3:7])\n",
    "print(s[2:9:2])\n",
    "\n",
    "#negative slicing\n",
    "print(s[-8:])\n",
    "print(s[-10:10:3])\n",
    "print(s[-8:-3:2])\n",
    "#revrese\n",
    "print(s[::-1])\n",
    "print(s[9:2:-1])\n",
    "\n"
   ]
  },
  {
   "cell_type": "code",
   "execution_count": 27,
   "id": "26fb1ea3",
   "metadata": {},
   "outputs": [
    {
     "name": "stdout",
     "output_type": "stream",
     "text": [
      "10\n"
     ]
    }
   ],
   "source": [
    "print(len(\"hel     lo\"))"
   ]
  },
  {
   "cell_type": "code",
   "execution_count": 28,
   "id": "4e3b2b01",
   "metadata": {},
   "outputs": [
    {
     "name": "stdout",
     "output_type": "stream",
     "text": [
      "hello\n"
     ]
    }
   ],
   "source": [
    "print(\"hello\")"
   ]
  },
  {
   "cell_type": "code",
   "execution_count": null,
   "id": "e4340823",
   "metadata": {},
   "outputs": [],
   "source": []
  },
  {
   "cell_type": "code",
   "execution_count": null,
   "id": "18db917e",
   "metadata": {},
   "outputs": [],
   "source": []
  },
  {
   "cell_type": "code",
   "execution_count": null,
   "id": "a3dc934d",
   "metadata": {},
   "outputs": [],
   "source": []
  }
 ],
 "metadata": {
  "kernelspec": {
   "display_name": "Python 3",
   "language": "python",
   "name": "python3"
  },
  "language_info": {
   "codemirror_mode": {
    "name": "ipython",
    "version": 3
   },
   "file_extension": ".py",
   "mimetype": "text/x-python",
   "name": "python",
   "nbconvert_exporter": "python",
   "pygments_lexer": "ipython3",
   "version": "3.13.1"
  }
 },
 "nbformat": 4,
 "nbformat_minor": 5
}
