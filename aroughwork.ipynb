{
 "cells": [
  {
   "cell_type": "code",
   "execution_count": 5,
   "metadata": {},
   "outputs": [
    {
     "name": "stdout",
     "output_type": "stream",
     "text": [
      "Helloworld \n"
     ]
    }
   ],
   "source": [
    "print(\"Helloworld \")"
   ]
  },
  {
   "cell_type": "code",
   "execution_count": 9,
   "id": "3631300e",
   "metadata": {},
   "outputs": [
    {
     "name": "stdout",
     "output_type": "stream",
     "text": [
      "True\n"
     ]
    }
   ],
   "source": [
    "print(\"hello\" in \"helloworld\")"
   ]
  },
  {
   "cell_type": "code",
   "execution_count": 26,
   "id": "2477fd8c",
   "metadata": {},
   "outputs": [
    {
     "name": "stdout",
     "output_type": "stream",
     "text": [
      "h\n",
      "d\n",
      "helloworld\n",
      "loworld\n",
      "lowo\n",
      "lool\n",
      "lloworld\n",
      "hlod\n",
      "loo\n",
      "dlrowolleh\n",
      "dlrowol\n"
     ]
    }
   ],
   "source": [
    "#Slicing of string\n",
    "s=\"helloworld\"\n",
    "print(s[0])  #positive index\n",
    "print(s[-1]) #negative index\n",
    "#postive slicing\n",
    "print(s[:]) \n",
    "print(s[3:])\n",
    "print(s[3:7])\n",
    "print(s[2:9:2])\n",
    "\n",
    "#negative slicing\n",
    "print(s[-8:])\n",
    "print(s[-10:10:3])\n",
    "print(s[-8:-3:2])\n",
    "#revrese\n",
    "print(s[::-1])\n",
    "print(s[9:2:-1])\n",
    "\n"
   ]
  },
  {
   "cell_type": "code",
   "execution_count": 27,
   "id": "26fb1ea3",
   "metadata": {},
   "outputs": [
    {
     "name": "stdout",
     "output_type": "stream",
     "text": [
      "10\n"
     ]
    }
   ],
   "source": [
    "print(len(\"hel     lo\"))"
   ]
  },
  {
   "cell_type": "code",
   "execution_count": 28,
   "id": "4e3b2b01",
   "metadata": {},
   "outputs": [
    {
     "name": "stdout",
     "output_type": "stream",
     "text": [
      "hello\n"
     ]
    }
   ],
   "source": [
    "print(\"hello\")"
   ]
  },
  {
   "cell_type": "code",
   "execution_count": 1,
   "id": "e4340823",
   "metadata": {},
   "outputs": [
    {
     "name": "stdout",
     "output_type": "stream",
     "text": [
      "<class 'list'>\n"
     ]
    }
   ],
   "source": [
    "s=\"my name is harsith\"\n",
    "words=s.split()\n",
    "print(type(words))"
   ]
  },
  {
   "cell_type": "code",
   "execution_count": 5,
   "id": "18db917e",
   "metadata": {},
   "outputs": [
    {
     "name": "stdout",
     "output_type": "stream",
     "text": [
      "['h', 'e', 'l', 'l', 'o'] ['o', 'h', 'e', 'l', 'l']\n",
      "False\n"
     ]
    }
   ],
   "source": [
    "s=\"hello\"\n",
    "t=\"ohell\"\n",
    "print(list(s),list(t))\n",
    "print(list(s)==list(t))"
   ]
  },
  {
   "cell_type": "code",
   "execution_count": 10,
   "id": "a3dc934d",
   "metadata": {},
   "outputs": [
    {
     "name": "stdout",
     "output_type": "stream",
     "text": [
      "Counter({'l': 2, 'h': 1, 'e': 1, 'o': 1})\n",
      "{1: 'o', 2: 'l'}\n"
     ]
    }
   ],
   "source": [
    "from collections import Counter\n",
    "strs=\"hello\"\n",
    "freq=Counter(strs)\n",
    "print(freq)\n",
    "newdict=dict(zip(freq.values(),freq.keys()))\n",
    "print(newdict)"
   ]
  },
  {
   "cell_type": "code",
   "execution_count": 1,
   "id": "ce018b89",
   "metadata": {},
   "outputs": [
    {
     "name": "stdout",
     "output_type": "stream",
     "text": [
      "installed some setup\n"
     ]
    }
   ],
   "source": [
    "print(\"installed some setup\")"
   ]
  },
  {
   "cell_type": "code",
   "execution_count": 3,
   "id": "ae4cd806",
   "metadata": {},
   "outputs": [
    {
     "name": "stdout",
     "output_type": "stream",
     "text": [
      "True\n"
     ]
    }
   ],
   "source": [
    "min_len = float('inf')\n",
    "print(min_len==float('inf'))"
   ]
  },
  {
   "cell_type": "code",
   "execution_count": null,
   "id": "8887a53c",
   "metadata": {},
   "outputs": [
    {
     "name": "stdout",
     "output_type": "stream",
     "text": [
      "{1: 0, 2: 2}\n"
     ]
    }
   ],
   "source": [
    "mydict={1:0,2:1}\n",
    "mydict[2]=3\n",
    "mydict[2]=2\n",
    "print(mydict)"
   ]
  }
 ],
 "metadata": {
  "kernelspec": {
   "display_name": "Python 3",
   "language": "python",
   "name": "python3"
  },
  "language_info": {
   "codemirror_mode": {
    "name": "ipython",
    "version": 3
   },
   "file_extension": ".py",
   "mimetype": "text/x-python",
   "name": "python",
   "nbconvert_exporter": "python",
   "pygments_lexer": "ipython3",
   "version": "3.13.1"
  }
 },
 "nbformat": 4,
 "nbformat_minor": 5
}
